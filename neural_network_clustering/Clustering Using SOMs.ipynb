{
 "cells": [
  {
   "cell_type": "code",
   "execution_count": 1,
   "metadata": {},
   "outputs": [],
   "source": [
    "import pandas as pd\n",
    "import numpy as np\n",
    "import matplotlib.pyplot as plt\n",
    "from sklearn.preprocessing import MinMaxScaler\n",
    "from sklearn.preprocessing import OneHotEncoder\n",
    "from sklearn.model_selection import train_test_split\n",
    "from minisom import MiniSom"
   ]
  },
  {
   "cell_type": "code",
   "execution_count": 7,
   "metadata": {},
   "outputs": [
    {
     "data": {
      "text/plain": "           A          B          C          D          E          F  \\\n0  57.602380  21.713217  51.651818  63.154913  47.502589  59.353679   \n1  68.831340  24.314739  57.226875  62.426910  43.188385  51.631825   \n2  26.391291  33.543867  97.815496  62.187730  12.469125  61.804517   \n3  67.070432  78.426862  49.097628  48.877788  22.988814  47.411708   \n4  72.761049  48.364841  68.367300  44.169089  19.685162  68.107181   \n\n           G          H          I          J          K       Name  \n0   8.753383  20.603756   6.491436  65.020404   8.078522        Dum  \n1  14.513575  73.935348  20.224595  74.948719   8.554909        Dum  \n2  33.145005   9.061499  26.646903  46.189500  11.804890  Albukerke  \n3  85.111717  41.587100  18.941216  64.504611  13.156304     Eugene  \n4  83.206047  52.037685   5.547961  74.685905  12.098432     Eugene  ",
      "text/html": "<div>\n<style scoped>\n    .dataframe tbody tr th:only-of-type {\n        vertical-align: middle;\n    }\n\n    .dataframe tbody tr th {\n        vertical-align: top;\n    }\n\n    .dataframe thead th {\n        text-align: right;\n    }\n</style>\n<table border=\"1\" class=\"dataframe\">\n  <thead>\n    <tr style=\"text-align: right;\">\n      <th></th>\n      <th>A</th>\n      <th>B</th>\n      <th>C</th>\n      <th>D</th>\n      <th>E</th>\n      <th>F</th>\n      <th>G</th>\n      <th>H</th>\n      <th>I</th>\n      <th>J</th>\n      <th>K</th>\n      <th>Name</th>\n    </tr>\n  </thead>\n  <tbody>\n    <tr>\n      <th>0</th>\n      <td>57.602380</td>\n      <td>21.713217</td>\n      <td>51.651818</td>\n      <td>63.154913</td>\n      <td>47.502589</td>\n      <td>59.353679</td>\n      <td>8.753383</td>\n      <td>20.603756</td>\n      <td>6.491436</td>\n      <td>65.020404</td>\n      <td>8.078522</td>\n      <td>Dum</td>\n    </tr>\n    <tr>\n      <th>1</th>\n      <td>68.831340</td>\n      <td>24.314739</td>\n      <td>57.226875</td>\n      <td>62.426910</td>\n      <td>43.188385</td>\n      <td>51.631825</td>\n      <td>14.513575</td>\n      <td>73.935348</td>\n      <td>20.224595</td>\n      <td>74.948719</td>\n      <td>8.554909</td>\n      <td>Dum</td>\n    </tr>\n    <tr>\n      <th>2</th>\n      <td>26.391291</td>\n      <td>33.543867</td>\n      <td>97.815496</td>\n      <td>62.187730</td>\n      <td>12.469125</td>\n      <td>61.804517</td>\n      <td>33.145005</td>\n      <td>9.061499</td>\n      <td>26.646903</td>\n      <td>46.189500</td>\n      <td>11.804890</td>\n      <td>Albukerke</td>\n    </tr>\n    <tr>\n      <th>3</th>\n      <td>67.070432</td>\n      <td>78.426862</td>\n      <td>49.097628</td>\n      <td>48.877788</td>\n      <td>22.988814</td>\n      <td>47.411708</td>\n      <td>85.111717</td>\n      <td>41.587100</td>\n      <td>18.941216</td>\n      <td>64.504611</td>\n      <td>13.156304</td>\n      <td>Eugene</td>\n    </tr>\n    <tr>\n      <th>4</th>\n      <td>72.761049</td>\n      <td>48.364841</td>\n      <td>68.367300</td>\n      <td>44.169089</td>\n      <td>19.685162</td>\n      <td>68.107181</td>\n      <td>83.206047</td>\n      <td>52.037685</td>\n      <td>5.547961</td>\n      <td>74.685905</td>\n      <td>12.098432</td>\n      <td>Eugene</td>\n    </tr>\n  </tbody>\n</table>\n</div>"
     },
     "execution_count": 7,
     "metadata": {},
     "output_type": "execute_result"
    }
   ],
   "source": [
    "df = pd.read_csv('dataset.csv')\n",
    "df.head()"
   ]
  },
  {
   "cell_type": "code",
   "execution_count": 8,
   "metadata": {},
   "outputs": [
    {
     "data": {
      "text/plain": "           I          J          G          D          E       Name\n0   6.491436  65.020404   8.753383  63.154913  47.502589        Dum\n1  20.224595  74.948719  14.513575  62.426910  43.188385        Dum\n2  26.646903  46.189500  33.145005  62.187730  12.469125  Albukerke\n3  15.676441  49.242872  55.864204  78.196325   8.671908      Baxan\n4   8.930248  41.795681  48.303592  54.224003   4.611418      Baxan",
      "text/html": "<div>\n<style scoped>\n    .dataframe tbody tr th:only-of-type {\n        vertical-align: middle;\n    }\n\n    .dataframe tbody tr th {\n        vertical-align: top;\n    }\n\n    .dataframe thead th {\n        text-align: right;\n    }\n</style>\n<table border=\"1\" class=\"dataframe\">\n  <thead>\n    <tr style=\"text-align: right;\">\n      <th></th>\n      <th>I</th>\n      <th>J</th>\n      <th>G</th>\n      <th>D</th>\n      <th>E</th>\n      <th>Name</th>\n    </tr>\n  </thead>\n  <tbody>\n    <tr>\n      <th>0</th>\n      <td>6.491436</td>\n      <td>65.020404</td>\n      <td>8.753383</td>\n      <td>63.154913</td>\n      <td>47.502589</td>\n      <td>Dum</td>\n    </tr>\n    <tr>\n      <th>1</th>\n      <td>20.224595</td>\n      <td>74.948719</td>\n      <td>14.513575</td>\n      <td>62.426910</td>\n      <td>43.188385</td>\n      <td>Dum</td>\n    </tr>\n    <tr>\n      <th>2</th>\n      <td>26.646903</td>\n      <td>46.189500</td>\n      <td>33.145005</td>\n      <td>62.187730</td>\n      <td>12.469125</td>\n      <td>Albukerke</td>\n    </tr>\n    <tr>\n      <th>3</th>\n      <td>15.676441</td>\n      <td>49.242872</td>\n      <td>55.864204</td>\n      <td>78.196325</td>\n      <td>8.671908</td>\n      <td>Baxan</td>\n    </tr>\n    <tr>\n      <th>4</th>\n      <td>8.930248</td>\n      <td>41.795681</td>\n      <td>48.303592</td>\n      <td>54.224003</td>\n      <td>4.611418</td>\n      <td>Baxan</td>\n    </tr>\n  </tbody>\n</table>\n</div>"
     },
     "execution_count": 8,
     "metadata": {},
     "output_type": "execute_result"
    }
   ],
   "source": [
    "df = df.loc[df['Name'].isin(['Albukerke', 'Baxan', 'Dum']), ['I', 'J', 'G', 'D', 'E', 'Name']].reset_index(drop=True)\n",
    "df.head()"
   ]
  },
  {
   "cell_type": "code",
   "execution_count": 9,
   "outputs": [
    {
     "data": {
      "text/plain": "           I          J          G          D          E       Name  Name_Cat  \\\n0   6.491436  65.020404   8.753383  63.154913  47.502589        Dum         2   \n1  20.224595  74.948719  14.513575  62.426910  43.188385        Dum         2   \n2  26.646903  46.189500  33.145005  62.187730  12.469125  Albukerke         0   \n3  15.676441  49.242872  55.864204  78.196325   8.671908      Baxan         1   \n4   8.930248  41.795681  48.303592  54.224003   4.611418      Baxan         1   \n\n   Albukerke  Baxan  Dum  \n0        0.0    0.0  1.0  \n1        0.0    0.0  1.0  \n2        1.0    0.0  0.0  \n3        0.0    1.0  0.0  \n4        0.0    1.0  0.0  ",
      "text/html": "<div>\n<style scoped>\n    .dataframe tbody tr th:only-of-type {\n        vertical-align: middle;\n    }\n\n    .dataframe tbody tr th {\n        vertical-align: top;\n    }\n\n    .dataframe thead th {\n        text-align: right;\n    }\n</style>\n<table border=\"1\" class=\"dataframe\">\n  <thead>\n    <tr style=\"text-align: right;\">\n      <th></th>\n      <th>I</th>\n      <th>J</th>\n      <th>G</th>\n      <th>D</th>\n      <th>E</th>\n      <th>Name</th>\n      <th>Name_Cat</th>\n      <th>Albukerke</th>\n      <th>Baxan</th>\n      <th>Dum</th>\n    </tr>\n  </thead>\n  <tbody>\n    <tr>\n      <th>0</th>\n      <td>6.491436</td>\n      <td>65.020404</td>\n      <td>8.753383</td>\n      <td>63.154913</td>\n      <td>47.502589</td>\n      <td>Dum</td>\n      <td>2</td>\n      <td>0.0</td>\n      <td>0.0</td>\n      <td>1.0</td>\n    </tr>\n    <tr>\n      <th>1</th>\n      <td>20.224595</td>\n      <td>74.948719</td>\n      <td>14.513575</td>\n      <td>62.426910</td>\n      <td>43.188385</td>\n      <td>Dum</td>\n      <td>2</td>\n      <td>0.0</td>\n      <td>0.0</td>\n      <td>1.0</td>\n    </tr>\n    <tr>\n      <th>2</th>\n      <td>26.646903</td>\n      <td>46.189500</td>\n      <td>33.145005</td>\n      <td>62.187730</td>\n      <td>12.469125</td>\n      <td>Albukerke</td>\n      <td>0</td>\n      <td>1.0</td>\n      <td>0.0</td>\n      <td>0.0</td>\n    </tr>\n    <tr>\n      <th>3</th>\n      <td>15.676441</td>\n      <td>49.242872</td>\n      <td>55.864204</td>\n      <td>78.196325</td>\n      <td>8.671908</td>\n      <td>Baxan</td>\n      <td>1</td>\n      <td>0.0</td>\n      <td>1.0</td>\n      <td>0.0</td>\n    </tr>\n    <tr>\n      <th>4</th>\n      <td>8.930248</td>\n      <td>41.795681</td>\n      <td>48.303592</td>\n      <td>54.224003</td>\n      <td>4.611418</td>\n      <td>Baxan</td>\n      <td>1</td>\n      <td>0.0</td>\n      <td>1.0</td>\n      <td>0.0</td>\n    </tr>\n  </tbody>\n</table>\n</div>"
     },
     "execution_count": 9,
     "metadata": {},
     "output_type": "execute_result"
    }
   ],
   "source": [
    "# converting type of columns to 'category'\n",
    "df['Name'] = df['Name'].astype('category')\n",
    "# Assigning numerical values and storing in another column\n",
    "df['Name_Cat'] = df['Name'].cat.codes\n",
    "# creating instance of one-hot-encoder\n",
    "encoder = OneHotEncoder(handle_unknown='ignore')\n",
    "# passing names-cat column (label encoded values of names)\n",
    "encoder_df = pd.DataFrame(encoder.fit_transform(df[['Name_Cat']]).toarray(), columns=['Albukerke', 'Baxan', 'Dum'])\n",
    "df = pd.concat([df, encoder_df], axis=1)\n",
    "df.head()"
   ],
   "metadata": {
    "collapsed": false,
    "pycharm": {
     "name": "#%%\n"
    }
   }
  },
  {
   "cell_type": "code",
   "execution_count": 10,
   "metadata": {},
   "outputs": [],
   "source": [
    "X_train, X_test, y_train, y_test = train_test_split(df[['I', 'J', 'G', 'D', 'E', 'Name_Cat', 'Albukerke', 'Baxan', 'Dum']], df['Name'], test_size=0.33, random_state=42)"
   ]
  },
  {
   "cell_type": "code",
   "execution_count": 11,
   "metadata": {},
   "outputs": [],
   "source": [
    "X_train.reset_index(inplace=True, drop=True)\n",
    "y_train.reset_index(inplace=True, drop=True)"
   ]
  },
  {
   "cell_type": "code",
   "execution_count": 12,
   "metadata": {},
   "outputs": [
    {
     "data": {
      "text/plain": "array([[0.37436534, 0.71641365, 0.38073745, ..., 0.        , 0.        ,\n        1.        ],\n       [0.34043136, 0.66560919, 0.53423927, ..., 1.        , 0.        ,\n        0.        ],\n       [0.76680276, 0.55929837, 0.19310142, ..., 0.        , 0.        ,\n        1.        ],\n       ...,\n       [0.19226492, 0.845033  , 0.2755945 , ..., 0.        , 0.        ,\n        1.        ],\n       [0.23783141, 0.72094774, 0.3227465 , ..., 0.        , 0.        ,\n        1.        ],\n       [0.70628386, 0.37446814, 0.65645116, ..., 1.        , 0.        ,\n        0.        ]])"
     },
     "execution_count": 12,
     "metadata": {},
     "output_type": "execute_result"
    }
   ],
   "source": [
    "# scaling features to the [0; 1] range\n",
    "min_max_scaler = MinMaxScaler()\n",
    "X_train = min_max_scaler.fit_transform(X_train)\n",
    "X_train"
   ]
  },
  {
   "cell_type": "code",
   "execution_count": 33,
   "metadata": {},
   "outputs": [],
   "source": [
    "som_shape = (3, 1)\n",
    "data_shape = X_train.shape"
   ]
  },
  {
   "cell_type": "code",
   "execution_count": 34,
   "metadata": {
    "pycharm": {
     "name": "#%%\n"
    }
   },
   "outputs": [
    {
     "name": "stdout",
     "output_type": "stream",
     "text": [
      "Training...\n",
      "\n",
      "...ready!\n"
     ]
    }
   ],
   "source": [
    "# Initialization and training\n",
    "som = MiniSom(som_shape[0], som_shape[1], data_shape[1], sigma=.5, learning_rate=.5)\n",
    "som.random_weights_init(X_train)\n",
    "print(\"Training...\")\n",
    "som.train_batch(X_train, 1000)  # random training\n",
    "print(\"\\n...ready!\")"
   ]
  },
  {
   "cell_type": "code",
   "execution_count": 35,
   "metadata": {},
   "outputs": [],
   "source": [
    "winner_coors = np.array([som.winner(x) for x in X_train]).T\n",
    "cluster_index = np.ravel_multi_index(winner_coors, som_shape)"
   ]
  },
  {
   "cell_type": "code",
   "execution_count": 36,
   "metadata": {},
   "outputs": [],
   "source": [
    "x_train_df = pd.DataFrame(X_train, columns=['I', 'J', 'G', 'D', 'E', 'Name_Cat', 'Albukerke', 'Baxan', 'Dum'])\n",
    "x_train_df['Expected'] = y_train\n",
    "x_train_df['Clusters'] = cluster_index"
   ]
  },
  {
   "cell_type": "code",
   "execution_count": 37,
   "metadata": {},
   "outputs": [
    {
     "data": {
      "text/plain": "           I         J         G         D         E  Name_Cat  Albukerke  \\\n0   0.374365  0.716414  0.380737  0.375481  0.529926       1.0        0.0   \n1   0.340431  0.665609  0.534239  0.313023  0.317136       0.0        1.0   \n2   0.766803  0.559298  0.193101  0.426168  0.306906       1.0        0.0   \n3   0.551198  0.275252  0.423501  0.369627  0.303688       0.0        1.0   \n4   0.160185  0.914537  0.287580  0.290311  0.727604       1.0        0.0   \n5   0.477532  0.341744  0.634703  0.383796  0.190073       0.5        0.0   \n6   0.883468  0.760451  0.648565  0.384825  0.144605       0.5        0.0   \n7   0.836402  0.360851  0.575430  0.261044  0.120613       0.5        0.0   \n8   0.354912  0.981530  0.627005  0.658825  0.030615       0.5        0.0   \n9   0.363491  0.881246  0.488601  0.420999  0.678757       1.0        0.0   \n10  0.958941  0.364395  0.428907  0.352803  0.289992       0.0        1.0   \n11  0.545612  0.717776  0.669386  0.317158  0.291148       0.0        1.0   \n12  0.817964  0.571182  0.222237  0.328206  0.394071       0.0        1.0   \n13  0.711130  0.981540  0.024108  0.423578  0.361748       1.0        0.0   \n14  0.221489  0.029250  0.493105  0.106088  0.142910       0.5        0.0   \n15  0.413655  0.131291  0.472775  0.834295  0.020915       0.5        0.0   \n16  0.540036  0.678077  0.447178  0.521787  0.540622       1.0        0.0   \n17  0.225781  0.114009  0.571987  0.975666  0.175850       0.5        0.0   \n18  0.150274  0.392924  0.386287  0.388070  0.227084       0.0        1.0   \n19  0.082749  0.449910  0.543856  0.583925  0.181493       0.5        0.0   \n\n    Baxan  Dum   Expected  Clusters  \n0     0.0  1.0        Dum         2  \n1     0.0  0.0  Albukerke         0  \n2     0.0  1.0        Dum         2  \n3     0.0  0.0  Albukerke         0  \n4     0.0  1.0        Dum         2  \n5     1.0  0.0      Baxan         1  \n6     1.0  0.0      Baxan         1  \n7     1.0  0.0      Baxan         1  \n8     1.0  0.0      Baxan         1  \n9     0.0  1.0        Dum         2  \n10    0.0  0.0  Albukerke         0  \n11    0.0  0.0  Albukerke         0  \n12    0.0  0.0  Albukerke         0  \n13    0.0  1.0        Dum         2  \n14    1.0  0.0      Baxan         1  \n15    1.0  0.0      Baxan         1  \n16    0.0  1.0        Dum         2  \n17    1.0  0.0      Baxan         1  \n18    0.0  0.0  Albukerke         0  \n19    1.0  0.0      Baxan         1  ",
      "text/html": "<div>\n<style scoped>\n    .dataframe tbody tr th:only-of-type {\n        vertical-align: middle;\n    }\n\n    .dataframe tbody tr th {\n        vertical-align: top;\n    }\n\n    .dataframe thead th {\n        text-align: right;\n    }\n</style>\n<table border=\"1\" class=\"dataframe\">\n  <thead>\n    <tr style=\"text-align: right;\">\n      <th></th>\n      <th>I</th>\n      <th>J</th>\n      <th>G</th>\n      <th>D</th>\n      <th>E</th>\n      <th>Name_Cat</th>\n      <th>Albukerke</th>\n      <th>Baxan</th>\n      <th>Dum</th>\n      <th>Expected</th>\n      <th>Clusters</th>\n    </tr>\n  </thead>\n  <tbody>\n    <tr>\n      <th>0</th>\n      <td>0.374365</td>\n      <td>0.716414</td>\n      <td>0.380737</td>\n      <td>0.375481</td>\n      <td>0.529926</td>\n      <td>1.0</td>\n      <td>0.0</td>\n      <td>0.0</td>\n      <td>1.0</td>\n      <td>Dum</td>\n      <td>2</td>\n    </tr>\n    <tr>\n      <th>1</th>\n      <td>0.340431</td>\n      <td>0.665609</td>\n      <td>0.534239</td>\n      <td>0.313023</td>\n      <td>0.317136</td>\n      <td>0.0</td>\n      <td>1.0</td>\n      <td>0.0</td>\n      <td>0.0</td>\n      <td>Albukerke</td>\n      <td>0</td>\n    </tr>\n    <tr>\n      <th>2</th>\n      <td>0.766803</td>\n      <td>0.559298</td>\n      <td>0.193101</td>\n      <td>0.426168</td>\n      <td>0.306906</td>\n      <td>1.0</td>\n      <td>0.0</td>\n      <td>0.0</td>\n      <td>1.0</td>\n      <td>Dum</td>\n      <td>2</td>\n    </tr>\n    <tr>\n      <th>3</th>\n      <td>0.551198</td>\n      <td>0.275252</td>\n      <td>0.423501</td>\n      <td>0.369627</td>\n      <td>0.303688</td>\n      <td>0.0</td>\n      <td>1.0</td>\n      <td>0.0</td>\n      <td>0.0</td>\n      <td>Albukerke</td>\n      <td>0</td>\n    </tr>\n    <tr>\n      <th>4</th>\n      <td>0.160185</td>\n      <td>0.914537</td>\n      <td>0.287580</td>\n      <td>0.290311</td>\n      <td>0.727604</td>\n      <td>1.0</td>\n      <td>0.0</td>\n      <td>0.0</td>\n      <td>1.0</td>\n      <td>Dum</td>\n      <td>2</td>\n    </tr>\n    <tr>\n      <th>5</th>\n      <td>0.477532</td>\n      <td>0.341744</td>\n      <td>0.634703</td>\n      <td>0.383796</td>\n      <td>0.190073</td>\n      <td>0.5</td>\n      <td>0.0</td>\n      <td>1.0</td>\n      <td>0.0</td>\n      <td>Baxan</td>\n      <td>1</td>\n    </tr>\n    <tr>\n      <th>6</th>\n      <td>0.883468</td>\n      <td>0.760451</td>\n      <td>0.648565</td>\n      <td>0.384825</td>\n      <td>0.144605</td>\n      <td>0.5</td>\n      <td>0.0</td>\n      <td>1.0</td>\n      <td>0.0</td>\n      <td>Baxan</td>\n      <td>1</td>\n    </tr>\n    <tr>\n      <th>7</th>\n      <td>0.836402</td>\n      <td>0.360851</td>\n      <td>0.575430</td>\n      <td>0.261044</td>\n      <td>0.120613</td>\n      <td>0.5</td>\n      <td>0.0</td>\n      <td>1.0</td>\n      <td>0.0</td>\n      <td>Baxan</td>\n      <td>1</td>\n    </tr>\n    <tr>\n      <th>8</th>\n      <td>0.354912</td>\n      <td>0.981530</td>\n      <td>0.627005</td>\n      <td>0.658825</td>\n      <td>0.030615</td>\n      <td>0.5</td>\n      <td>0.0</td>\n      <td>1.0</td>\n      <td>0.0</td>\n      <td>Baxan</td>\n      <td>1</td>\n    </tr>\n    <tr>\n      <th>9</th>\n      <td>0.363491</td>\n      <td>0.881246</td>\n      <td>0.488601</td>\n      <td>0.420999</td>\n      <td>0.678757</td>\n      <td>1.0</td>\n      <td>0.0</td>\n      <td>0.0</td>\n      <td>1.0</td>\n      <td>Dum</td>\n      <td>2</td>\n    </tr>\n    <tr>\n      <th>10</th>\n      <td>0.958941</td>\n      <td>0.364395</td>\n      <td>0.428907</td>\n      <td>0.352803</td>\n      <td>0.289992</td>\n      <td>0.0</td>\n      <td>1.0</td>\n      <td>0.0</td>\n      <td>0.0</td>\n      <td>Albukerke</td>\n      <td>0</td>\n    </tr>\n    <tr>\n      <th>11</th>\n      <td>0.545612</td>\n      <td>0.717776</td>\n      <td>0.669386</td>\n      <td>0.317158</td>\n      <td>0.291148</td>\n      <td>0.0</td>\n      <td>1.0</td>\n      <td>0.0</td>\n      <td>0.0</td>\n      <td>Albukerke</td>\n      <td>0</td>\n    </tr>\n    <tr>\n      <th>12</th>\n      <td>0.817964</td>\n      <td>0.571182</td>\n      <td>0.222237</td>\n      <td>0.328206</td>\n      <td>0.394071</td>\n      <td>0.0</td>\n      <td>1.0</td>\n      <td>0.0</td>\n      <td>0.0</td>\n      <td>Albukerke</td>\n      <td>0</td>\n    </tr>\n    <tr>\n      <th>13</th>\n      <td>0.711130</td>\n      <td>0.981540</td>\n      <td>0.024108</td>\n      <td>0.423578</td>\n      <td>0.361748</td>\n      <td>1.0</td>\n      <td>0.0</td>\n      <td>0.0</td>\n      <td>1.0</td>\n      <td>Dum</td>\n      <td>2</td>\n    </tr>\n    <tr>\n      <th>14</th>\n      <td>0.221489</td>\n      <td>0.029250</td>\n      <td>0.493105</td>\n      <td>0.106088</td>\n      <td>0.142910</td>\n      <td>0.5</td>\n      <td>0.0</td>\n      <td>1.0</td>\n      <td>0.0</td>\n      <td>Baxan</td>\n      <td>1</td>\n    </tr>\n    <tr>\n      <th>15</th>\n      <td>0.413655</td>\n      <td>0.131291</td>\n      <td>0.472775</td>\n      <td>0.834295</td>\n      <td>0.020915</td>\n      <td>0.5</td>\n      <td>0.0</td>\n      <td>1.0</td>\n      <td>0.0</td>\n      <td>Baxan</td>\n      <td>1</td>\n    </tr>\n    <tr>\n      <th>16</th>\n      <td>0.540036</td>\n      <td>0.678077</td>\n      <td>0.447178</td>\n      <td>0.521787</td>\n      <td>0.540622</td>\n      <td>1.0</td>\n      <td>0.0</td>\n      <td>0.0</td>\n      <td>1.0</td>\n      <td>Dum</td>\n      <td>2</td>\n    </tr>\n    <tr>\n      <th>17</th>\n      <td>0.225781</td>\n      <td>0.114009</td>\n      <td>0.571987</td>\n      <td>0.975666</td>\n      <td>0.175850</td>\n      <td>0.5</td>\n      <td>0.0</td>\n      <td>1.0</td>\n      <td>0.0</td>\n      <td>Baxan</td>\n      <td>1</td>\n    </tr>\n    <tr>\n      <th>18</th>\n      <td>0.150274</td>\n      <td>0.392924</td>\n      <td>0.386287</td>\n      <td>0.388070</td>\n      <td>0.227084</td>\n      <td>0.0</td>\n      <td>1.0</td>\n      <td>0.0</td>\n      <td>0.0</td>\n      <td>Albukerke</td>\n      <td>0</td>\n    </tr>\n    <tr>\n      <th>19</th>\n      <td>0.082749</td>\n      <td>0.449910</td>\n      <td>0.543856</td>\n      <td>0.583925</td>\n      <td>0.181493</td>\n      <td>0.5</td>\n      <td>0.0</td>\n      <td>1.0</td>\n      <td>0.0</td>\n      <td>Baxan</td>\n      <td>1</td>\n    </tr>\n  </tbody>\n</table>\n</div>"
     },
     "execution_count": 37,
     "metadata": {},
     "output_type": "execute_result"
    }
   ],
   "source": [
    "x_train_df.head(20)"
   ]
  },
  {
   "cell_type": "code",
   "execution_count": 25,
   "metadata": {},
   "outputs": [],
   "source": [
    "som_shape = (10, 10)"
   ]
  },
  {
   "cell_type": "code",
   "execution_count": 26,
   "metadata": {},
   "outputs": [
    {
     "name": "stdout",
     "output_type": "stream",
     "text": [
      "Training...\n",
      "\n",
      "...ready!\n"
     ]
    }
   ],
   "source": [
    "# Initialization and training\n",
    "som = MiniSom(som_shape[0], som_shape[1], data_shape[1], sigma=.5, learning_rate=.5)\n",
    "som.random_weights_init(X_train)\n",
    "print(\"Training...\")\n",
    "som.train_batch(X_train, 10000)  # random training\n",
    "print(\"\\n...ready!\")"
   ]
  },
  {
   "cell_type": "code",
   "execution_count": 27,
   "metadata": {
    "pycharm": {
     "name": "#%%\n"
    }
   },
   "outputs": [
    {
     "data": {
      "text/plain": "<matplotlib.colorbar.Colorbar at 0x1bbfe2faac0>"
     },
     "execution_count": 27,
     "metadata": {},
     "output_type": "execute_result"
    },
    {
     "data": {
      "text/plain": "<Figure size 432x288 with 2 Axes>",
      "image/png": "[encoded data removed]"
     },
     "metadata": {
      "needs_background": "light"
     },
     "output_type": "display_data"
    }
   ],
   "source": [
    "# Plotting the response for each pattern in the iris dataset\n",
    "plt.bone()\n",
    "plt.pcolor(som.distance_map().T)  # plotting the distance map as background\n",
    "plt.colorbar()"
   ]
  },
  {
   "cell_type": "code",
   "execution_count": 28,
   "metadata": {},
   "outputs": [],
   "source": [
    "target = y_train.to_numpy()\n",
    "t = np.zeros(len(target), dtype=int)\n",
    "t[target == 'Dum'] = 0\n",
    "t[target == 'Albukerke'] = 1\n",
    "t[target == 'Baxan'] = 2"
   ]
  },
  {
   "cell_type": "code",
   "execution_count": 29,
   "metadata": {
    "pycharm": {
     "name": "#%%\n"
    }
   },
   "outputs": [
    {
     "data": {
      "text/plain": "<Figure size 432x288 with 1 Axes>",
      "image/png": "[encoded data removed]"
     },
     "metadata": {
      "needs_background": "light"
     },
     "output_type": "display_data"
    }
   ],
   "source": [
    "# use different colors and markers for each label\n",
    "markers = ['o', 's', 'D']\n",
    "colors = ['y', 'g', 'b'] # (blue - Dum, green - Albukerke, yellow - Baxan)\n",
    "for cnt, xx in enumerate(X_train):\n",
    "    w = som.winner(xx)  # getting the winner\n",
    "    # palce a marker on the winning position for the sample xx\n",
    "    plt.plot(w[0]+.5, w[1]+.5, markers[t[cnt]], markerfacecolor='None',\n",
    "             markeredgecolor=colors[t[cnt]], markersize=12, markeredgewidth=2)\n",
    "plt.axis([0, som_shape[0], 0, som_shape[1]])\n",
    "\n",
    "plt.show()"
   ]
  }
 ],
 "metadata": {
  "kernelspec": {
   "display_name": "Python 3",
   "language": "python",
   "name": "python3"
  },
  "language_info": {
   "codemirror_mode": {
    "name": "ipython",
    "version": 3
   },
   "file_extension": ".py",
   "mimetype": "text/x-python",
   "name": "python",
   "nbconvert_exporter": "python",
   "pygments_lexer": "ipython3",
   "version": "3.8.5"
  }
 },
 "nbformat": 4,
 "nbformat_minor": 4
}